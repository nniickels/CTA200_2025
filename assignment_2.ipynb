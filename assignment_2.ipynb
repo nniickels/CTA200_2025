{
 "cells": [
  {
   "cell_type": "code",
   "execution_count": 7,
   "id": "072514c0-6aed-4962-9136-cd4ea19770ce",
   "metadata": {
    "scrolled": true
   },
   "outputs": [],
   "source": [
    "# Assignment 2 code for CTA200 2025 by Nicole Jiang \n",
    "# Part 1\n",
    "\n",
    "def f(x: float) -> float:\n",
    "    \"\"\" Takes x input and puts it through f(x) = x^3 - x^2 - 1.\n",
    "    Parameters: x -- type float, a real number to input into the function\n",
    "    Returns: f(x) -- type float, a real number that is the output of the function\n",
    "    \n",
    "    \"\"\" \n",
    "    return x**3 - x**2 - 1\n",
    "\n",
    "\n",
    "def df(x: float) -> float:\n",
    "    \"\"\" Takes x input and puts it through df(x) = 3x^2 - 2x \n",
    "    Parameters: x -- type float, a real number to input into the derivative \n",
    "    Returns: df(x) -- type float, a real number that is the output of the derivative \n",
    "    \n",
    "    \"\"\"\n",
    "    return 3 * x**2 - 2 * x\n",
    "    "
   ]
  },
  {
   "cell_type": "code",
   "execution_count": 3,
   "id": "282ffe88-7c99-477b-b0c5-7663a2d57517",
   "metadata": {},
   "outputs": [],
   "source": [
    "# Part 2\n",
    "\n",
    "def newton(f, df, x0, epsilon=1e-6, max_iter=30):\n",
    "    \"\"\" Performs newton iteration on f using df and an initial input x0 to estimate the root.\n",
    "    \n",
    "    Precondition: df(x0) != 0\n",
    "\n",
    "    Parameters: \n",
    "    - f, the predefined function \n",
    "    - df, the predefined derivatvie \n",
    "    - epsilon -- type float, a very small real number\n",
    "    - max_iter -- type int, the maximum amount of iterations for the function\n",
    "\n",
    "    Returns: \n",
    "    x_n if root is found and None if iteration failed. \n",
    "            \n",
    "    \"\"\"\n",
    "\n",
    "    x_n = x0 - f(x0)/df(x0)\n",
    "\n",
    "    for i in range(max_iter):\n",
    "        x_n = x_n - f(x_n)/df(x_n)\n",
    "        if abs(f(x_n)) < epsilon:\n",
    "            print(\"Found root in \", i + 1, \" iterations\")\n",
    "            return x_n\n",
    "    \n",
    "    print(\"Iteration failed\")\n",
    "    return None\n",
    "    "
   ]
  },
  {
   "cell_type": "code",
   "execution_count": 9,
   "id": "b9171430-2ced-4932-b9c7-073a654d2224",
   "metadata": {},
   "outputs": [
    {
     "name": "stdout",
     "output_type": "stream",
     "text": [
      "Found root in  5  iterations\n"
     ]
    },
    {
     "data": {
      "text/plain": [
       "1.4655712318902172"
      ]
     },
     "execution_count": 9,
     "metadata": {},
     "output_type": "execute_result"
    }
   ],
   "source": [
    "# Part 3\n",
    "# test newton iteration function with x0 = 3\n",
    "newton(f, df, 3, epsilon=1e-6, max_iter=30)"
   ]
  },
  {
   "cell_type": "code",
   "execution_count": 10,
   "id": "78c40d21-a20b-43ce-95db-a17fcfe1c2dd",
   "metadata": {},
   "outputs": [
    {
     "name": "stdout",
     "output_type": "stream",
     "text": [
      "Found root in  3  iterations\n"
     ]
    },
    {
     "data": {
      "text/plain": [
       "1.4655713749070918"
      ]
     },
     "execution_count": 10,
     "metadata": {},
     "output_type": "execute_result"
    }
   ],
   "source": [
    "# test newton iteration function with x0 = 2\n",
    "newton(f, df, 2, epsilon=1e-6, max_iter=30)"
   ]
  },
  {
   "cell_type": "code",
   "execution_count": 11,
   "id": "f81214fd-ec2e-4d1b-8338-b40a796da8bc",
   "metadata": {},
   "outputs": [
    {
     "name": "stdout",
     "output_type": "stream",
     "text": [
      "Found root in  4  iterations\n"
     ]
    },
    {
     "data": {
      "text/plain": [
       "1.4655712318767877"
      ]
     },
     "execution_count": 11,
     "metadata": {},
     "output_type": "execute_result"
    }
   ],
   "source": [
    "# test newton iteration function with x0 = 2 again but epsilon = 1e-8\n",
    "newton(f, df, 2, epsilon=1e-8, max_iter=30)"
   ]
  },
  {
   "cell_type": "code",
   "execution_count": 12,
   "id": "ef81e560-0626-4f7a-9467-28e4c39a2dd4",
   "metadata": {},
   "outputs": [],
   "source": [
    "# it still worked (but was a slightly different x_n), and took 4 iterations instead of 3\n",
    "# conclusion: it still works, but takes more iterations. "
   ]
  }
 ],
 "metadata": {
  "kernelspec": {
   "display_name": "Python [conda env:base] *",
   "language": "python",
   "name": "conda-base-py"
  },
  "language_info": {
   "codemirror_mode": {
    "name": "ipython",
    "version": 3
   },
   "file_extension": ".py",
   "mimetype": "text/x-python",
   "name": "python",
   "nbconvert_exporter": "python",
   "pygments_lexer": "ipython3",
   "version": "3.12.4"
  }
 },
 "nbformat": 4,
 "nbformat_minor": 5
}
